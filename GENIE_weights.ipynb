{
 "metadata": {
  "name": ""
 },
 "nbformat": 3,
 "nbformat_minor": 0,
 "worksheets": [
  {
   "cells": [
    {
     "cell_type": "code",
     "collapsed": false,
     "input": [
      "%matplotlib inline"
     ],
     "language": "python",
     "metadata": {},
     "outputs": [],
     "prompt_number": 1
    },
    {
     "cell_type": "code",
     "collapsed": false,
     "input": [
      "import numpy as np"
     ],
     "language": "python",
     "metadata": {},
     "outputs": [],
     "prompt_number": 2
    },
    {
     "cell_type": "code",
     "collapsed": false,
     "input": [
      "import icecube\n",
      "from icecube import dataio, dataclasses\n",
      "from icecube import neutrinoflux"
     ],
     "language": "python",
     "metadata": {},
     "outputs": [],
     "prompt_number": 3
    },
    {
     "cell_type": "code",
     "collapsed": false,
     "input": [
      "infile = dataio.I3File(\"/home/shivesh/Documents/icecube/i3files/genie_ic.1460.000000.i3.bz2\",\"r\")"
     ],
     "language": "python",
     "metadata": {},
     "outputs": [],
     "prompt_number": 4
    },
    {
     "cell_type": "code",
     "collapsed": false,
     "input": [
      "flux = neutrinoflux.ConventionalNeutrinoFlux(\"honda2006_numu\")"
     ],
     "language": "python",
     "metadata": {},
     "outputs": [],
     "prompt_number": 5
    },
    {
     "cell_type": "code",
     "collapsed": false,
     "input": [
      "# Testing\n",
      "frame = infile.pop_daq()\n",
      "i3mctree = frame[\"I3MCTree\"]\n",
      "weight_dict = frame[\"I3MCWeightDict\"]\n",
      "print i3mctree.most_energetic_primary.type\n",
      "infile.rewind()"
     ],
     "language": "python",
     "metadata": {},
     "outputs": [
      {
       "output_type": "stream",
       "stream": "stdout",
       "text": [
        "NuMuBar\n"
       ]
      }
     ],
     "prompt_number": 6
    },
    {
     "cell_type": "code",
     "collapsed": false,
     "input": [
      "# Compute Weights\n",
      "weights = []\n",
      "while(infile.more()):\n",
      "    frame = infile.pop_daq()\n",
      "    if str(frame) == 'None':\n",
      "        infile.rewind()\n",
      "        print \"DONE!\"\n",
      "        break\n",
      "   \n",
      "    i3mctree = frame[\"I3MCTree\"]\n",
      "    oneweight = frame[\"I3MCWeightDict\"][\"OneWeight\"]\n",
      "    n_events = frame[\"I3MCWeightDict\"][\"NEvents\"]\n",
      "    nu_type = i3mctree.most_energetic_primary.type\n",
      "    nu_energy = i3mctree.most_energetic_primary.energy\n",
      "    nu_costheta = np.cos(i3mctree.most_energetic_primary.dir.zenith)\n",
      "    \n",
      "    atmoflux = flux.getFlux(nu_type, nu_energy, nu_costheta)\n",
      "    \n",
      "    if str(nu_type) == \"NuMu\":\n",
      "        genie_factor = 0.7\n",
      "    if str(nu_type) == \"NuMuBar\":\n",
      "        genie_factor = 0.3\n",
      "        \n",
      "    weight = oneweight * atmoflux / (n_events * genie_factor)\n",
      "    \n",
      "    weights.append(weight)"
     ],
     "language": "python",
     "metadata": {},
     "outputs": [
      {
       "output_type": "stream",
       "stream": "stdout",
       "text": [
        "DONE!\n"
       ]
      }
     ],
     "prompt_number": 7
    },
    {
     "cell_type": "code",
     "collapsed": false,
     "input": [
      "weights = np.array(weights)\n",
      "np.save(\"weights\", weights)"
     ],
     "language": "python",
     "metadata": {},
     "outputs": [],
     "prompt_number": 8
    },
    {
     "cell_type": "code",
     "collapsed": false,
     "input": [
      "infile.close()"
     ],
     "language": "python",
     "metadata": {},
     "outputs": [],
     "prompt_number": 9
    }
   ],
   "metadata": {}
  }
 ]
}