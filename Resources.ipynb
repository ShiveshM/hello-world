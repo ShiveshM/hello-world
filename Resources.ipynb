{
 "metadata": {
  "name": "",
  "signature": "sha256:fb9f660e090644a35b01bbee41582d444c9b551441783c2ffa099752aabb7b1b"
 },
 "nbformat": 3,
 "nbformat_minor": 0,
 "worksheets": [
  {
   "cells": [
    {
     "cell_type": "heading",
     "level": 4,
     "metadata": {},
     "source": [
      "`Simulation`"
     ]
    },
    {
     "cell_type": "markdown",
     "metadata": {},
     "source": [
      "Links:\n",
      "- https://wiki.icecube.wisc.edu/index.php/Simulation_Documentation_Wiki"
     ]
    },
    {
     "cell_type": "markdown",
     "metadata": {},
     "source": [
      "This link has an overview of the different stages of making a simulation file. The 'generated' GENIE file is produced using this."
     ]
    },
    {
     "cell_type": "heading",
     "level": 4,
     "metadata": {},
     "source": [
      "` `"
     ]
    },
    {
     "cell_type": "markdown",
     "metadata": {},
     "source": [
      "- Link to datasets:\n",
      "    - http://internal.icecube.wisc.edu/filtering/datasets/dataset_category/PHYSICS\n",
      "\n",
      "- Link to 2012 filter L1 L2 scripts:\n",
      "    - http://code.icecube.wisc.edu/svn/projects/filter-2012/"
     ]
    },
    {
     "cell_type": "heading",
     "level": 4,
     "metadata": {},
     "source": [
      "`Level 0 Processing`"
     ]
    },
    {
     "cell_type": "markdown",
     "metadata": {},
     "source": [
      "Links:\n",
      "- https://wiki.icecube.wisc.edu/index.php/Offline_Processing_2006\n",
      "- https://wiki.icecube.wisc.edu/index.php/2007_Level_0_Files\n",
      "\n",
      "These links are old, a lot of the info is outdated.\n",
      "\n",
      "The Level0 files are the first files produced in the North after the Raw PFFilt Files arrive from Pole via Tracking and Data Relay Satellite System(TDRSS). At Level 0 the data is converted from the processing and filtering format (P&F) to the standard offline format (.i3 files). Geometry, calibration and detector status is also obtained from the database."
     ]
    },
    {
     "cell_type": "heading",
     "level": 4,
     "metadata": {},
     "source": [
      "`Level 1 Processing`"
     ]
    },
    {
     "cell_type": "markdown",
     "metadata": {},
     "source": [
      "Links:\n",
      "- https://wiki.icecube.wisc.edu/index.php/Offline_Processing_2006 (same link as level 0)\n",
      "- https://wiki.icecube.wisc.edu/index.php/IC40_EHE_Data_Analysis_Level-1"
     ]
    },
    {
     "cell_type": "markdown",
     "metadata": {},
     "source": [
      "The 2012 source code for L1 processing is in the filter scripts link at the top (`trunk/python/level1_SimulationFiltering.py`). It looks like it adds a lot of different modules to the file like 'MuonFilter', 'CascadeFilter'.\n",
      "\n",
      "The IC40 EHE link is for EHE neutrinos ($10^7$-$10^{14}$GeV) so its probably not relavant to us but I couldn't find much else on the level 1 processing."
     ]
    },
    {
     "cell_type": "heading",
     "level": 4,
     "metadata": {},
     "source": [
      "`Level 2 Processing`"
     ]
    },
    {
     "cell_type": "markdown",
     "metadata": {},
     "source": [
      "Links:\n",
      "- https://wiki.icecube.wisc.edu/index.php/2007_Level_2\n",
      "- https://wiki.icecube.wisc.edu/index.php/IC79_offline_processing\n",
      "- https://wiki.icecube.wisc.edu/index.php/IceTop_IC86.2012_L2_Processing\n",
      "- https://wiki.icecube.wisc.edu/index.php/IC86_2012_Level2_file_structure\n",
      "- https://wiki.icecube.wisc.edu/index.php/Offline_Processing_IC86_2013"
     ]
    },
    {
     "cell_type": "markdown",
     "metadata": {},
     "source": [
      "There are 18 level 2 files in `trunk/python` mainly for *HitCleaning* and *Reconstruction*. This is where the a lot of the fits are done. I can't read the code very well but the comments explain some of what's hapenning. The `process.py` file contains the main script which imports all of the reconstruction, hitcleaning etc. to do the processing."
     ]
    },
    {
     "cell_type": "markdown",
     "metadata": {},
     "source": [
      "Some of these are explained in the first link like the Log Likelihood reconstruction for Muons, which is in the file `trunk/python/level2_Reconstruction_IceTop.py`. It has some good explanations but the link is quite old as it is for the IC79 dataset, so a lot of it has bene updated."
     ]
    },
    {
     "cell_type": "markdown",
     "metadata": {},
     "source": [
      "The `IC79` processing is for the `IC79` dataset (link to the datasets is at the top). The newer datasets and processing are called `IC86`. I'm still not sure what `IC` stands for or what the numbers `79` or `86` mean.."
     ]
    },
    {
     "cell_type": "markdown",
     "metadata": {},
     "source": [
      "The second link goes over IC79 offline processing in some detail. The third link is a flowchart of the L2 processing."
     ]
    },
    {
     "cell_type": "markdown",
     "metadata": {},
     "source": [
      "The third link has some descriptions of the L2 file structure. It has explanations of the GCD frames, Q and P frames and `ice_top` and `SLOPSplot` sub-event streams."
     ]
    },
    {
     "cell_type": "markdown",
     "metadata": {},
     "source": [
      "The \"filtered\" GENIE file is at IC86_2012 Level 2."
     ]
    },
    {
     "cell_type": "markdown",
     "metadata": {},
     "source": [
      "The last link is for IC86_2013, so it probably isn't that relavant to us."
     ]
    },
    {
     "cell_type": "heading",
     "level": 4,
     "metadata": {},
     "source": [
      "`Level 3 Processing`"
     ]
    },
    {
     "cell_type": "markdown",
     "metadata": {},
     "source": [
      "L3 Code links:\n",
      "- http://code.icecube.wisc.edu/svn/projects/level3-filter-cascade/trunk/\n",
      "- http://code.icecube.wisc.edu/svn/projects/level3-filter-lowen/trunk/\n",
      "- http://code.icecube.wisc.edu/svn/projects/level3-filter-muon/trunk/"
     ]
    },
    {
     "cell_type": "markdown",
     "metadata": {},
     "source": [
      "Links:\n",
      "- https://wiki.icecube.wisc.edu/index.php/IC86_Muon_Level3\n",
      "- https://wiki.icecube.wisc.edu/index.php/Muon_Energy_Spectrum/Level_3\n",
      "- https://wiki.icecube.wisc.edu/index.php/DeepCore_Level3_2012\n",
      "- https://wiki.icecube.wisc.edu/index.php/IC40_UHE_Diffuse_Analysis/Level_3/Cascade_stream"
     ]
    },
    {
     "cell_type": "markdown",
     "metadata": {},
     "source": [
      "The code for L3 is split up into \"cascade\", \"lowen\" and \"muon\". I'm not sure what \"lowen\" is."
     ]
    },
    {
     "cell_type": "markdown",
     "metadata": {},
     "source": [
      "The first two links are for processing the Muon. They list the cuts that were made and have lots of plots showing if they are effective. The first link is more recent."
     ]
    },
    {
     "cell_type": "markdown",
     "metadata": {},
     "source": [
      "The third link is similar but for DeepCore and the last link is for UHE neutrinos."
     ]
    },
    {
     "cell_type": "heading",
     "level": 4,
     "metadata": {},
     "source": [
      "`Weightings`"
     ]
    },
    {
     "cell_type": "markdown",
     "metadata": {},
     "source": [
      "Links:\n",
      "- https://wiki.icecube.wisc.edu/index.php/Neutrino_Generator/Weighting\n",
      "- https://wiki.icecube.wisc.edu/index.php/Neutrino_Generator/Setting_Parameters\n",
      "- https://wiki.icecube.wisc.edu/index.php/Weights_in_nugen_Simulation_Data\n",
      "- http://icecube.wisc.edu/~tmontaruli/neutrinoflux/NeutrinoFlux.html\n",
      "- http://code.icecube.wisc.edu/projects/icecube/browser/IceCube/sandbox/jvansanten/weighting/trunk/resources/docs/index.rst\n",
      "- http://lists.icecube.wisc.edu/pipermail/ice3sim/2014-May/007784.html\n",
      "- http://lists.icecube.wisc.edu/pipermail/low-en-wg/2013-September/002760.html"
     ]
    },
    {
     "cell_type": "markdown",
     "metadata": {},
     "source": [
      "The first link has information about what weighting is and how weighting is done for NeuGen. It also tells us how to calculate the interaction weight using `I3MCWeightsDict`."
     ]
    },
    {
     "cell_type": "markdown",
     "metadata": {},
     "source": [
      "The second and third links list the parameter we can set and also has some examples."
     ]
    },
    {
     "cell_type": "markdown",
     "metadata": {},
     "source": [
      "All of the weightings is done using the `NeutrinoFlux` service, which isn't included as part of IceRec. Here's the link to the code for it:\n",
      "- http://code.icecube.wisc.edu/svn/projects/neutrinoflux/trunk/\n",
      "\n",
      "The fourth link has some details on what the service is and the fifth link is a tutorial for calculating weights using it."
     ]
    },
    {
     "cell_type": "markdown",
     "metadata": {},
     "source": [
      "The fifth and sixth links contain some code of people who have configured the weightings. The sixth one is specific to the `GENIE` file that we are using!"
     ]
    },
    {
     "cell_type": "markdown",
     "metadata": {},
     "source": [
      "I also found some code which might be related in the level3 processing scripts: `level3-filter-cascade/trunk/python/CascadeL3TraySegment.py` :"
     ]
    },
    {
     "cell_type": "code",
     "collapsed": false,
     "input": [
      "    if  (MCbool) and (MCtype!=\"corsika\") :\n",
      "        print \"This is Neutrino MC\"\n",
      "        # For nue/numus we need these modules at L3 but icerec does not include below two projects\n",
      "        load(\"neutrinoflux\")\n",
      "        load(\"nugen-weighting\")\n",
      "\n",
      "        print MCtype\n",
      "\n",
      "        if  MCtype =='nue' :\n",
      "\n",
      "            ## Weighting for electron neutrinos ##\n",
      "            tray.AddService(\"NeutrinoFluxFactory\", \"nue-flux-service\") (\n",
      "                (\"ConventionalModelName\", \"honda2006_nue\"),\n",
      "                (\"PromptModelName\",       \"sarcevic_std_nue\"),\n",
      "                (\"InstallServiceAs\",      \"honda2006_nue\")\n",
      "                )\n",
      "            tray.AddModule(\"I3NuGenWeightingModule\", \"NuGenWeighting_honda2006\") (\n",
      "                (\"MCTreeName\",          \"I3MCTree\"),\n",
      "                (\"NeutrinoFluxService\", \"honda2006_nue\"),\n",
      "                (\"OutputName\",          \"NuGenWeighting_honda2006\"),\n",
      "                )\n",
      "\n",
      "        if  MCtype =='numu' :\n",
      "\n",
      "            ## Weighting for muon neutrinos ##\n",
      "            tray.AddService(\"NeutrinoFluxFactory\", \"nue-flux-service\") (\n",
      "                (\"ConventionalModelName\", \"honda2006_numu\"),\n",
      "                (\"PromptModelName\",       \"sarcevic_std_numu\"),\n",
      "                (\"InstallServiceAs\",      \"honda2006_numu\")\n",
      "                )\n",
      "            tray.AddModule(\"I3NuGenWeightingModule\", \"NuGenWeighting_honda2006\") (\n",
      "                (\"MCTreeName\",          \"I3MCTree\"),\n",
      "                (\"NeutrinoFluxService\", \"honda2006_numu\"),\n",
      "                (\"OutputName\",          \"NuGenWeighting_honda2006\"),\n",
      "                )\n",
      "\n"
     ],
     "language": "python",
     "metadata": {},
     "outputs": [
      {
       "ename": "NameError",
       "evalue": "name 'MCbool' is not defined",
       "output_type": "pyerr",
       "traceback": [
        "\u001b[1;31m---------------------------------------------------------------------------\u001b[0m\n\u001b[1;31mNameError\u001b[0m                                 Traceback (most recent call last)",
        "\u001b[1;32m<ipython-input-1-cfac62d0b2f8>\u001b[0m in \u001b[0;36m<module>\u001b[1;34m()\u001b[0m\n\u001b[1;32m----> 1\u001b[1;33m \u001b[1;32mif\u001b[0m  \u001b[1;33m(\u001b[0m\u001b[0mMCbool\u001b[0m\u001b[1;33m)\u001b[0m \u001b[1;32mand\u001b[0m \u001b[1;33m(\u001b[0m\u001b[0mMCtype\u001b[0m\u001b[1;33m!=\u001b[0m\u001b[1;34m\"corsika\"\u001b[0m\u001b[1;33m)\u001b[0m \u001b[1;33m:\u001b[0m\u001b[1;33m\u001b[0m\u001b[0m\n\u001b[0m\u001b[0;32m      2\u001b[0m     \u001b[1;32mprint\u001b[0m \u001b[1;34m\"This is Neutrino MC\"\u001b[0m\u001b[1;33m\u001b[0m\u001b[0m\n\u001b[0;32m      3\u001b[0m     \u001b[1;31m# For nue/numus we need these modules at L3 but icerec does not include below two projects\u001b[0m\u001b[1;33m\u001b[0m\u001b[1;33m\u001b[0m\u001b[0m\n\u001b[0;32m      4\u001b[0m     \u001b[0mload\u001b[0m\u001b[1;33m(\u001b[0m\u001b[1;34m\"neutrinoflux\"\u001b[0m\u001b[1;33m)\u001b[0m\u001b[1;33m\u001b[0m\u001b[0m\n\u001b[0;32m      5\u001b[0m     \u001b[0mload\u001b[0m\u001b[1;33m(\u001b[0m\u001b[1;34m\"nugen-weighting\"\u001b[0m\u001b[1;33m)\u001b[0m\u001b[1;33m\u001b[0m\u001b[0m\n",
        "\u001b[1;31mNameError\u001b[0m: name 'MCbool' is not defined"
       ]
      }
     ],
     "prompt_number": 1
    }
   ],
   "metadata": {}
  }
 ]
}