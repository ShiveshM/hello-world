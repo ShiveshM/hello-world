{
 "metadata": {
  "name": ""
 },
 "nbformat": 3,
 "nbformat_minor": 0,
 "worksheets": [
  {
   "cells": [
    {
     "cell_type": "code",
     "collapsed": false,
     "input": [
      "import numpy as np"
     ],
     "language": "python",
     "metadata": {},
     "outputs": [],
     "prompt_number": 1
    },
    {
     "cell_type": "code",
     "collapsed": false,
     "input": [
      "import icecube\n",
      "from icecube import dataio, dataclasses"
     ],
     "language": "python",
     "metadata": {},
     "outputs": [],
     "prompt_number": 2
    },
    {
     "cell_type": "code",
     "collapsed": false,
     "input": [
      "from icecube.dataclasses import I3Particle"
     ],
     "language": "python",
     "metadata": {},
     "outputs": [],
     "prompt_number": 3
    },
    {
     "cell_type": "code",
     "collapsed": false,
     "input": [
      "nu = I3Particle.Nu\n",
      "print nu"
     ],
     "language": "python",
     "metadata": {},
     "outputs": [
      {
       "output_type": "stream",
       "stream": "stdout",
       "text": [
        "Nu\n"
       ]
      }
     ],
     "prompt_number": 4
    },
    {
     "cell_type": "code",
     "collapsed": false,
     "input": [
      "inFile = dataio.I3File('data/level7_3Jun2015/Level7_genie_ic.1460.0000XX.i3','r')"
     ],
     "language": "python",
     "metadata": {},
     "outputs": [],
     "prompt_number": 5
    },
    {
     "cell_type": "code",
     "collapsed": false,
     "input": [
      "frame = inFile.pop_daq()\n",
      "mctree = frame['I3MCTree']\n",
      "print mctree"
     ],
     "language": "python",
     "metadata": {},
     "outputs": [
      {
       "output_type": "stream",
       "stream": "stdout",
       "text": [
        "*** TREE DUMP - BEGIN***\n",
        "8590 NuMu (67.238m ,-102.801m ,-392.825m) (122.307deg ,280.708deg) 9812.05ns 10.3336GeV nanm \n",
        "  8591 MuMinus (67.238m ,-102.801m ,-392.825m) (143.877deg ,266.017deg) 9812.05ns 2.11783GeV 10.1593m \n",
        "  8601 EMinus (67.654m ,-96.8261m ,-384.619m) (143.877deg ,266.017deg) 11298.7ns 0.0451035GeV 0m \n",
        "  8592 Gamma (67.238m ,-102.801m ,-392.825m) (70.6878deg ,124.12deg) 9812.05ns 0.00618GeV nanm \n",
        "  8593 Pi0 (67.238m ,-102.801m ,-392.825m) (115.297deg ,294.024deg) 9812.05ns 2.39034GeV nanm \n",
        "  8594 PiPlus (67.238m ,-102.801m ,-392.825m) (145.295deg ,265.272deg) 9812.05ns 0.756868GeV nanm \n",
        "  8595 PiMinus (67.238m ,-102.801m ,-392.825m) (111.498deg ,293.871deg) 9812.05ns 2.28769GeV nanm \n",
        "  8596 Neutron (67.238m ,-102.801m ,-392.825m) (99.1039deg ,306.821deg) 9812.05ns 0.796542GeV nanm \n",
        "  8597 Neutron (67.238m ,-102.801m ,-392.825m) (150.105deg ,267.241deg) 9812.05ns 0.163758GeV nanm \n",
        "  8598 PPlus (67.238m ,-102.801m ,-392.825m) (74.0566deg ,168.041deg) 9812.05ns 0.383159GeV nanm \n",
        "  8599 PPlus (67.238m ,-102.801m ,-392.825m) (116.749deg ,264.885deg) 9812.05ns 0.688428GeV nanm \n",
        "  8600 PiMinus (67.238m ,-102.801m ,-392.825m) (74.5669deg ,265.898deg) 9812.05ns 0.0718506GeV nanm \n",
        "*** TREE DUMP - END***\n",
        "\n"
       ]
      }
     ],
     "prompt_number": 6
    },
    {
     "cell_type": "code",
     "collapsed": false,
     "input": [
      "muon = mctree.most_energetic_muon\n",
      "print type(muon)\n",
      "print muon"
     ],
     "language": "python",
     "metadata": {},
     "outputs": [
      {
       "output_type": "stream",
       "stream": "stdout",
       "text": [
        "<class 'icecube.dataclasses.I3Particle'>\n",
        "[ I3Particle MajorID : 16276543538095733462\n",
        "             MinorID : 8591\n",
        "              Zenith : 2.51112\n",
        "             Azimuth : 4.64288\n",
        "                   X : 67.238\n",
        "                   Y : -102.801\n",
        "                   Z : -392.825\n",
        "                Time : 9812.05\n",
        "              Energy : 2.11783\n",
        "               Speed : 0.299792\n",
        "              Length : 10.1593\n",
        "                Type : MuMinus\n",
        "        PDG encoding : 13\n",
        "               Shape : StartingTrack\n",
        "              Status : NotSet\n",
        "            Location : InIce\n",
        "]\n"
       ]
      }
     ],
     "prompt_number": 7
    },
    {
     "cell_type": "code",
     "collapsed": false,
     "input": [
      "frame = inFile.pop_physics()\n",
      "print frame['SRT_nch']"
     ],
     "language": "python",
     "metadata": {},
     "outputs": [
      {
       "output_type": "stream",
       "stream": "stdout",
       "text": [
        "I3Double(12)\n"
       ]
      }
     ],
     "prompt_number": 8
    },
    {
     "cell_type": "code",
     "collapsed": false,
     "input": [
      "multinest = frame['MultiNest8D_Track']\n",
      "print multinest"
     ],
     "language": "python",
     "metadata": {},
     "outputs": [
      {
       "ename": "RuntimeError",
       "evalue": "Frame caught exception \"unregistered class\" for key \"MultiNest8D_Track\" of type I3Particle",
       "output_type": "pyerr",
       "traceback": [
        "\u001b[1;31m---------------------------------------------------------------------------\u001b[0m\n\u001b[1;31mRuntimeError\u001b[0m                              Traceback (most recent call last)",
        "\u001b[1;32m<ipython-input-9-7b70df1c3a23>\u001b[0m in \u001b[0;36m<module>\u001b[1;34m()\u001b[0m\n\u001b[1;32m----> 1\u001b[1;33m \u001b[0mmultinest\u001b[0m \u001b[1;33m=\u001b[0m \u001b[0mframe\u001b[0m\u001b[1;33m[\u001b[0m\u001b[1;34m'MultiNest8D_Track'\u001b[0m\u001b[1;33m]\u001b[0m\u001b[1;33m\u001b[0m\u001b[0m\n\u001b[0m\u001b[0;32m      2\u001b[0m \u001b[1;32mprint\u001b[0m \u001b[0mmultinest\u001b[0m\u001b[1;33m\u001b[0m\u001b[0m\n",
        "\u001b[1;31mRuntimeError\u001b[0m: Frame caught exception \"unregistered class\" for key \"MultiNest8D_Track\" of type I3Particle"
       ]
      }
     ],
     "prompt_number": 9
    }
   ],
   "metadata": {}
  }
 ]
}