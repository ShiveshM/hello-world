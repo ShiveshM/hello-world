{
 "cells": [
  {
   "cell_type": "code",
   "execution_count": 2,
   "metadata": {
    "collapsed": true
   },
   "outputs": [],
   "source": [
    "%matplotlib inline"
   ]
  },
  {
   "cell_type": "code",
   "execution_count": 3,
   "metadata": {
    "collapsed": true
   },
   "outputs": [],
   "source": [
    "import matplotlib.pyplot as plt\n",
    "import numpy as np\n",
    "import scipy.stats"
   ]
  },
  {
   "cell_type": "code",
   "execution_count": 4,
   "metadata": {
    "collapsed": true
   },
   "outputs": [],
   "source": [
    "import h5py"
   ]
  },
  {
   "cell_type": "code",
   "execution_count": 5,
   "metadata": {
    "collapsed": true
   },
   "outputs": [],
   "source": [
    "f = h5py.File('../../pisa/resources/events/pingu_v39/events__pingu__v39__runs_620-622__proc_v5.1__joined_G_nue_cc+nuebar_cc_G_numu_cc+numubar_cc_G_nutau_cc+nutaubar_cc_G_nuall_nc+nuallbar_nc.hdf5')"
   ]
  },
  {
   "cell_type": "code",
   "execution_count": 6,
   "metadata": {
    "collapsed": false
   },
   "outputs": [
    {
     "name": "stdout",
     "output_type": "stream",
     "text": [
      "nue\n",
      "nue_bar\n",
      "numu\n",
      "numu_bar\n",
      "nutau\n",
      "nutau_bar\n"
     ]
    }
   ],
   "source": [
    "for name in f.iterkeys():\n",
    "    print name"
   ]
  },
  {
   "cell_type": "code",
   "execution_count": 7,
   "metadata": {
    "collapsed": false
   },
   "outputs": [
    {
     "name": "stdout",
     "output_type": "stream",
     "text": [
      "[u'pid', u'reco_coszen', u'reco_energy', u'true_coszen', u'true_energy', u'weighted_aeff']\n"
     ]
    }
   ],
   "source": [
    "print f['numu']['cc'].keys()\n",
    "e_numu = np.array(f['numu']['cc']['reco_energy'])\n",
    "pid_numu = np.array(f['numu']['cc']['pid'])\n",
    "wei_numu = np.array(f['numu']['cc']['weighted_aeff'])"
   ]
  },
  {
   "cell_type": "code",
   "execution_count": 8,
   "metadata": {
    "collapsed": false
   },
   "outputs": [
    {
     "name": "stdout",
     "output_type": "stream",
     "text": [
      "[ 157.33312438   28.39073309   56.8262332  ...,   11.30262662   29.92501916\n",
      "    2.12568184] [ 0.96370754  0.9482486  -0.04312066 ...,  0.86676058  0.10035209\n",
      "  0.50749321] [  5.50730554e-06   2.27624544e-06   5.13043743e-06 ...,   1.77426205e-07\n",
      "   8.32043847e-07   5.57475955e-08]\n"
     ]
    }
   ],
   "source": [
    "print e_numu, pid_numu, wei_numu"
   ]
  },
  {
   "cell_type": "code",
   "execution_count": 9,
   "metadata": {
    "collapsed": false
   },
   "outputs": [
    {
     "name": "stdout",
     "output_type": "stream",
     "text": [
      "[ True  True False ...,  True False False]\n"
     ]
    }
   ],
   "source": [
    "track_map = (pid_numu > 0.55)\n",
    "print track_map"
   ]
  },
  {
   "cell_type": "markdown",
   "metadata": {},
   "source": [
    "# Unweighted distributions"
   ]
  },
  {
   "cell_type": "code",
   "execution_count": 10,
   "metadata": {
    "collapsed": false
   },
   "outputs": [
    {
     "data": {
      "text/plain": [
       "<matplotlib.legend.Legend at 0x7efeee72d690>"
      ]
     },
     "execution_count": 10,
     "metadata": {},
     "output_type": "execute_result"
    },
    {
     "data": {
      "image/png": "[encoded data removed]",
      "text/plain": [
       "<matplotlib.figure.Figure at 0x7efeee72d6d0>"
      ]
     },
     "metadata": {},
     "output_type": "display_data"
    }
   ],
   "source": [
    "n_a, bins, patches = plt.hist(e_numu, bins=np.logspace(1E-1, 3), label='all')\n",
    "n_t, bins, patches = plt.hist(e_numu[track_map], bins=np.logspace(1E-1, 3), label='trck')\n",
    "n_c, bins, patches = plt.hist(e_numu[~track_map], bins=np.logspace(1E-1, 3), label='cscd')\n",
    "plt.semilogx()\n",
    "plt.legend()"
   ]
  },
  {
   "cell_type": "markdown",
   "metadata": {},
   "source": [
    "# Weighted distributions"
   ]
  },
  {
   "cell_type": "code",
   "execution_count": 9,
   "metadata": {
    "collapsed": false
   },
   "outputs": [
    {
     "data": {
      "text/plain": [
       "<matplotlib.legend.Legend at 0x7f1cd6a34910>"
      ]
     },
     "execution_count": 9,
     "metadata": {},
     "output_type": "execute_result"
    },
    {
     "data": {
      "image/png": "[encoded data removed]",
      "text/plain": [
       "<matplotlib.figure.Figure at 0x7f1cd691cc10>"
      ]
     },
     "metadata": {},
     "output_type": "display_data"
    }
   ],
   "source": [
    "n_a, bins, patches = plt.hist(e_numu, weights=wei_numu, bins=np.logspace(1E-1, 3), label='all')\n",
    "n_t, bins, patches = plt.hist(e_numu[track_map], weights=wei_numu[track_map], bins=np.logspace(1E-1, 3), label='trck')\n",
    "n_c, bins, patches = plt.hist(e_numu[~track_map], weights=wei_numu[~track_map], bins=np.logspace(1E-1, 3), label='cscd')\n",
    "plt.semilogx()\n",
    "plt.legend()"
   ]
  },
  {
   "cell_type": "markdown",
   "metadata": {},
   "source": [
    "#### Cascade plot to match against"
   ]
  },
  {
   "cell_type": "code",
   "execution_count": 10,
   "metadata": {
    "collapsed": false
   },
   "outputs": [
    {
     "data": {
      "text/plain": [
       "[]"
      ]
     },
     "execution_count": 10,
     "metadata": {},
     "output_type": "execute_result"
    },
    {
     "data": {
      "image/png": "[encoded data removed]",
      "text/plain": [
       "<matplotlib.figure.Figure at 0x7f1cd691c0d0>"
      ]
     },
     "metadata": {},
     "output_type": "display_data"
    }
   ],
   "source": [
    "diff = n_a-n_t\n",
    "diff = np.concatenate(([diff[0]], diff))\n",
    "plt.plot(bins, diff, drawstyle='steps-pre')\n",
    "plt.semilogx()"
   ]
  },
  {
   "cell_type": "markdown",
   "metadata": {},
   "source": [
    "# Without weights"
   ]
  },
  {
   "cell_type": "code",
   "execution_count": 11,
   "metadata": {
    "collapsed": false
   },
   "outputs": [
    {
     "name": "stderr",
     "output_type": "stream",
     "text": [
      "/common/users/mandalia/programs/Python-2.7.10/venv2_7/lib/python2.7/site-packages/ipykernel/__main__.py:6: RuntimeWarning: divide by zero encountered in divide\n",
      "/common/users/mandalia/programs/Python-2.7.10/venv2_7/lib/python2.7/site-packages/ipykernel/__main__.py:7: RuntimeWarning: divide by zero encountered in divide\n"
     ]
    }
   ],
   "source": [
    "e_numu_trck = e_numu[track_map]\n",
    "e_numu_cscd = e_numu[~track_map]\n",
    "trck_hist, bin_edges = np.histogram(e_numu_trck, bins=bins)\n",
    "cscd_hist, bin_edges = np.histogram(e_numu_cscd, bins=bins)\n",
    "\n",
    "prob_map_trck = np.ma.masked_invalid(trck_hist / (trck_hist+cscd_hist))\n",
    "prob_map_cscd = np.ma.masked_invalid(cscd_hist / (trck_hist+cscd_hist))"
   ]
  },
  {
   "cell_type": "code",
   "execution_count": 12,
   "metadata": {
    "collapsed": false
   },
   "outputs": [
    {
     "data": {
      "text/plain": [
       "[]"
      ]
     },
     "execution_count": 12,
     "metadata": {},
     "output_type": "execute_result"
    },
    {
     "data": {
      "image/png": "[encoded data removed]",
      "text/plain": [
       "<matplotlib.figure.Figure at 0x7f1cd69085d0>"
      ]
     },
     "metadata": {},
     "output_type": "display_data"
    }
   ],
   "source": [
    "trck_r = n_a*prob_map_cscd\n",
    "trck_r = np.concatenate(([trck_r[0]], trck_r))\n",
    "plt.plot(bins, trck_r, drawstyle='steps-pre')\n",
    "plt.semilogx()"
   ]
  },
  {
   "cell_type": "markdown",
   "metadata": {},
   "source": [
    "# With weights"
   ]
  },
  {
   "cell_type": "code",
   "execution_count": 13,
   "metadata": {
    "collapsed": false
   },
   "outputs": [
    {
     "name": "stderr",
     "output_type": "stream",
     "text": [
      "/common/users/mandalia/programs/Python-2.7.10/venv2_7/lib/python2.7/site-packages/ipykernel/__main__.py:6: RuntimeWarning: invalid value encountered in divide\n",
      "/common/users/mandalia/programs/Python-2.7.10/venv2_7/lib/python2.7/site-packages/ipykernel/__main__.py:7: RuntimeWarning: invalid value encountered in divide\n"
     ]
    }
   ],
   "source": [
    "e_numu_trck = e_numu[track_map]\n",
    "e_numu_cscd = e_numu[~track_map]\n",
    "trck_hist, bin_edges = np.histogram(e_numu_trck, weights=wei_numu[track_map], bins=bins)\n",
    "cscd_hist, bin_edges = np.histogram(e_numu_cscd, weights=wei_numu[~track_map], bins=bins)\n",
    "\n",
    "prob_map_trck = np.ma.masked_invalid(trck_hist / (trck_hist+cscd_hist))\n",
    "prob_map_cscd = np.ma.masked_invalid(cscd_hist / (trck_hist+cscd_hist))"
   ]
  },
  {
   "cell_type": "code",
   "execution_count": 14,
   "metadata": {
    "collapsed": false
   },
   "outputs": [
    {
     "data": {
      "text/plain": [
       "[]"
      ]
     },
     "execution_count": 14,
     "metadata": {},
     "output_type": "execute_result"
    },
    {
     "data": {
      "image/png": "[encoded data removed]",
      "text/plain": [
       "<matplotlib.figure.Figure at 0x7f1cd6908590>"
      ]
     },
     "metadata": {},
     "output_type": "display_data"
    }
   ],
   "source": [
    "trck_r = n_a*prob_map_cscd\n",
    "trck_r = np.concatenate(([trck_r[0]], trck_r))\n",
    "plt.plot(bins, trck_r, drawstyle='steps-pre')\n",
    "plt.semilogx()"
   ]
  }
 ],
 "metadata": {
  "kernelspec": {
   "display_name": "Python 2",
   "language": "python",
   "name": "python2"
  },
  "language_info": {
   "codemirror_mode": {
    "name": "ipython",
    "version": 2
   },
   "file_extension": ".py",
   "mimetype": "text/x-python",
   "name": "python",
   "nbconvert_exporter": "python",
   "pygments_lexer": "ipython2",
   "version": "2.7.10"
  }
 },
 "nbformat": 4,
 "nbformat_minor": 0
}
