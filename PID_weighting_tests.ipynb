{
 "cells": [
  {
   "cell_type": "code",
   "execution_count": 1,
   "metadata": {
    "collapsed": false
   },
   "outputs": [],
   "source": [
    "%matplotlib inline"
   ]
  },
  {
   "cell_type": "code",
   "execution_count": 2,
   "metadata": {
    "collapsed": true
   },
   "outputs": [],
   "source": [
    "import matplotlib.pyplot as plt\n",
    "import numpy as np"
   ]
  },
  {
   "cell_type": "code",
   "execution_count": 3,
   "metadata": {
    "collapsed": true
   },
   "outputs": [],
   "source": [
    "import h5py"
   ]
  },
  {
   "cell_type": "code",
   "execution_count": 6,
   "metadata": {
    "collapsed": false
   },
   "outputs": [],
   "source": [
    "f = h5py.File('/users/mandalia/programs/pisa/pisa/resources/events/DC/2015/mdunkman/1XXXX/Joined/DC_MSU_1X585_joined_nu_nubar_events_mc.hdf5')"
   ]
  },
  {
   "cell_type": "code",
   "execution_count": 7,
   "metadata": {
    "collapsed": false
   },
   "outputs": [
    {
     "name": "stdout",
     "output_type": "stream",
     "text": [
      "nue\n",
      "nue_bar\n",
      "numu\n",
      "numu_bar\n",
      "nutau\n",
      "nutau_bar\n"
     ]
    }
   ],
   "source": [
    "for name in f.iterkeys():\n",
    "    print name"
   ]
  },
  {
   "cell_type": "code",
   "execution_count": 8,
   "metadata": {
    "collapsed": false
   },
   "outputs": [
    {
     "name": "stdout",
     "output_type": "stream",
     "text": [
      "[u'pid', u'reco_coszen', u'reco_energy', u'true_coszen', u'true_energy', u'weighted_aeff']\n"
     ]
    }
   ],
   "source": [
    "print f['numu']['cc'].keys()\n",
    "e_numu = np.array(f['numu']['cc']['reco_energy'])\n",
    "pid_numu = np.array(f['numu']['cc']['pid'])\n",
    "wei_numu = np.array(f['numu']['cc']['weighted_aeff'])"
   ]
  },
  {
   "cell_type": "code",
   "execution_count": 27,
   "metadata": {
    "collapsed": false
   },
   "outputs": [
    {
     "name": "stdout",
     "output_type": "stream",
     "text": [
      "[   6.66          5.07732323    3.33       ...,   75.99224416  109.99246334\n",
      "   65.26415612] [  7.59972147  -0.04335284   3.09200791 ...,   7.70858237  14.74418869\n",
      "  13.34114676] [  3.33607908e-11   1.99130560e-10   1.45370577e-11 ...,   2.98675498e-06\n",
      "   5.98151128e-07   1.84013912e-06]\n",
      "-374.015930158 957.061599846\n"
     ]
    },
    {
     "data": {
      "text/plain": [
       "[]"
      ]
     },
     "execution_count": 27,
     "metadata": {},
     "output_type": "execute_result"
    },
    {
     "data": {
      "image/png": "[encoded data removed]",
      "text/plain": [
       "<matplotlib.figure.Figure at 0x7f20b4d8d290>"
      ]
     },
     "metadata": {},
     "output_type": "display_data"
    }
   ],
   "source": [
    "print e_numu, pid_numu, wei_numu\n",
    "print np.min(pid_numu), np.max(pid_numu)\n",
    "plt.hist(pid_numu, bins=np.linspace(-20, 80, 50))\n",
    "plt.semilogy()"
   ]
  },
  {
   "cell_type": "code",
   "execution_count": 11,
   "metadata": {
    "collapsed": false
   },
   "outputs": [
    {
     "name": "stdout",
     "output_type": "stream",
     "text": [
      "[ True False  True ...,  True  True  True]\n"
     ]
    }
   ],
   "source": [
    "track_mask = (pid_numu > 3)\n",
    "print track_mask"
   ]
  },
  {
   "cell_type": "markdown",
   "metadata": {},
   "source": [
    "# Unweighted distributions"
   ]
  },
  {
   "cell_type": "code",
   "execution_count": 12,
   "metadata": {
    "collapsed": false
   },
   "outputs": [
    {
     "data": {
      "text/plain": [
       "<function matplotlib.pyplot.ylim>"
      ]
     },
     "execution_count": 12,
     "metadata": {},
     "output_type": "execute_result"
    },
    {
     "data": {
      "image/png": "[encoded data removed]",
      "text/plain": [
       "<matplotlib.figure.Figure at 0x7f20b4ef93d0>"
      ]
     },
     "metadata": {},
     "output_type": "display_data"
    }
   ],
   "source": [
    "bins = np.logspace(1E-1, 3)\n",
    "#bins = np.linspace(-1, 1)\n",
    "logx = True\n",
    "#logx = False\n",
    "\n",
    "n_a, bins, patches = plt.hist(e_numu, bins=bins, label='all')\n",
    "n_t, bins, patches = plt.hist(e_numu[track_mask], bins=bins, label='trck')\n",
    "n_c, bins, patches = plt.hist(e_numu[~track_mask], bins=bins, label='cscd')\n",
    "if logx: plt.semilogx()\n",
    "plt.legend()\n",
    "plt.ylim"
   ]
  },
  {
   "cell_type": "markdown",
   "metadata": {},
   "source": [
    "# Weighted distributions"
   ]
  },
  {
   "cell_type": "code",
   "execution_count": 13,
   "metadata": {
    "collapsed": false
   },
   "outputs": [
    {
     "data": {
      "text/plain": [
       "<matplotlib.legend.Legend at 0x7f20b1e0d150>"
      ]
     },
     "execution_count": 13,
     "metadata": {},
     "output_type": "execute_result"
    },
    {
     "data": {
      "image/png": "[encoded data removed]",
      "text/plain": [
       "<matplotlib.figure.Figure at 0x7f20b4e17a10>"
      ]
     },
     "metadata": {},
     "output_type": "display_data"
    }
   ],
   "source": [
    "n_a, bins, patches = plt.hist(e_numu, weights=wei_numu, bins=bins, label='all')\n",
    "n_t, bins, patches = plt.hist(e_numu[track_mask], weights=wei_numu[track_mask], bins=bins, label='trck')\n",
    "n_c, bins, patches = plt.hist(e_numu[~track_mask], weights=wei_numu[~track_mask], bins=bins, label='cscd')\n",
    "if logx: plt.semilogx()\n",
    "plt.legend()"
   ]
  },
  {
   "cell_type": "markdown",
   "metadata": {},
   "source": [
    "#### Track plot to match against"
   ]
  },
  {
   "cell_type": "code",
   "execution_count": 16,
   "metadata": {
    "collapsed": false
   },
   "outputs": [
    {
     "data": {
      "image/png": "[encoded data removed]",
      "text/plain": [
       "<matplotlib.figure.Figure at 0x7f20b4d35650>"
      ]
     },
     "metadata": {},
     "output_type": "display_data"
    }
   ],
   "source": [
    "diff = n_a-n_c\n",
    "diff = np.concatenate(([diff[0]], diff))\n",
    "plt.plot(bins, diff, drawstyle='steps-pre')\n",
    "if logx: plt.semilogx()"
   ]
  },
  {
   "cell_type": "markdown",
   "metadata": {},
   "source": [
    "# Without weights"
   ]
  },
  {
   "cell_type": "code",
   "execution_count": 17,
   "metadata": {
    "collapsed": false
   },
   "outputs": [
    {
     "name": "stderr",
     "output_type": "stream",
     "text": [
      "/.data/mandalia/programs/Python-2.7.10/venv2_7/lib/python2.7/site-packages/ipykernel/__main__.py:5: RuntimeWarning: invalid value encountered in divide\n",
      "/.data/mandalia/programs/Python-2.7.10/venv2_7/lib/python2.7/site-packages/ipykernel/__main__.py:6: RuntimeWarning: invalid value encountered in divide\n"
     ]
    }
   ],
   "source": [
    "e_numu_trck = e_numu[track_mask]\n",
    "e_numu_cscd = e_numu[~track_mask]\n",
    "trck_hist, bin_edges = np.histogram(e_numu_trck, bins=bins)\n",
    "cscd_hist, bin_edges = np.histogram(e_numu_cscd, bins=bins)\n",
    "prob_trans_trck = np.ma.masked_invalid(trck_hist / (trck_hist.astype(float)+cscd_hist))\n",
    "prob_trans_cscd = np.ma.masked_invalid(cscd_hist / (trck_hist.astype(float)+cscd_hist))"
   ]
  },
  {
   "cell_type": "code",
   "execution_count": 19,
   "metadata": {
    "collapsed": false,
    "scrolled": true
   },
   "outputs": [
    {
     "name": "stderr",
     "output_type": "stream",
     "text": [
      "/.data/mandalia/programs/Python-2.7.10/venv2_7/lib/python2.7/site-packages/numpy/ma/core.py:4144: UserWarning: Warning: converting a masked element to nan.\n",
      "  warnings.warn(\"Warning: converting a masked element to nan.\")\n"
     ]
    },
    {
     "data": {
      "image/png": "[encoded data removed]",
      "text/plain": [
       "<matplotlib.figure.Figure at 0x7f20b1ec0110>"
      ]
     },
     "metadata": {},
     "output_type": "display_data"
    }
   ],
   "source": [
    "trck_map = n_a*prob_trans_trck\n",
    "trck_map = np.concatenate(([trck_map[0]], trck_map))\n",
    "plt.plot(bins, trck_map, drawstyle='steps-pre')\n",
    "if logx: plt.semilogx()"
   ]
  },
  {
   "cell_type": "markdown",
   "metadata": {},
   "source": [
    "# With weights"
   ]
  },
  {
   "cell_type": "code",
   "execution_count": 20,
   "metadata": {
    "collapsed": false
   },
   "outputs": [
    {
     "name": "stderr",
     "output_type": "stream",
     "text": [
      "/.data/mandalia/programs/Python-2.7.10/venv2_7/lib/python2.7/site-packages/ipykernel/__main__.py:6: RuntimeWarning: invalid value encountered in divide\n",
      "/.data/mandalia/programs/Python-2.7.10/venv2_7/lib/python2.7/site-packages/ipykernel/__main__.py:7: RuntimeWarning: invalid value encountered in divide\n"
     ]
    }
   ],
   "source": [
    "e_numu_trck = e_numu[track_mask]\n",
    "e_numu_cscd = e_numu[~track_mask]\n",
    "trck_hist, bin_edges = np.histogram(e_numu_trck, weights=wei_numu[track_mask], bins=bins)\n",
    "cscd_hist, bin_edges = np.histogram(e_numu_cscd, weights=wei_numu[~track_mask], bins=bins)\n",
    "\n",
    "prob_trans_trck = np.ma.masked_invalid(trck_hist / (trck_hist+cscd_hist))\n",
    "prob_trans_cscd = np.ma.masked_invalid(cscd_hist / (trck_hist+cscd_hist))"
   ]
  },
  {
   "cell_type": "code",
   "execution_count": 21,
   "metadata": {
    "collapsed": false
   },
   "outputs": [
    {
     "data": {
      "image/png": "[encoded data removed]",
      "text/plain": [
       "<matplotlib.figure.Figure at 0x7f20b22e49d0>"
      ]
     },
     "metadata": {},
     "output_type": "display_data"
    }
   ],
   "source": [
    "trck_map = n_a*prob_trans_trck\n",
    "trck_map = np.concatenate(([trck_map[0]], trck_map))\n",
    "plt.plot(bins, trck_map, drawstyle='steps-pre')\n",
    "if logx: plt.semilogx()"
   ]
  }
 ],
 "metadata": {
  "kernelspec": {
   "display_name": "Python 2",
   "language": "python",
   "name": "python2"
  },
  "language_info": {
   "codemirror_mode": {
    "name": "ipython",
    "version": 2
   },
   "file_extension": ".py",
   "mimetype": "text/x-python",
   "name": "python",
   "nbconvert_exporter": "python",
   "pygments_lexer": "ipython2",
   "version": "2.7.11"
  }
 },
 "nbformat": 4,
 "nbformat_minor": 0
}
